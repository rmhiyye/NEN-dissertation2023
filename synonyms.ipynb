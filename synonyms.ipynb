{
 "cells": [
  {
   "cell_type": "code",
   "execution_count": 1,
   "metadata": {},
   "outputs": [
    {
     "name": "stderr",
     "output_type": "stream",
     "text": [
      "/home/yangye/miniconda3/envs/NEN/lib/python3.11/site-packages/pronto/ontology.py:206: UnicodeWarning: unsound encoding, assuming ISO-8859-1 (73% confidence)\n",
      "  return cls(\n"
     ]
    }
   ],
   "source": [
    "import pronto\n",
    "\n",
    "hp = pronto.Ontology.from_obo_library(\"hp.obo\")"
   ]
  },
  {
   "cell_type": "code",
   "execution_count": 2,
   "metadata": {},
   "outputs": [
    {
     "data": {
      "text/plain": [
       "17878"
      ]
     },
     "execution_count": 2,
     "metadata": {},
     "output_type": "execute_result"
    }
   ],
   "source": [
    "hp = pronto.Ontology.from_obo_library(\"hp.obo\")\n",
    "len(hp)"
   ]
  },
  {
   "cell_type": "code",
   "execution_count": 3,
   "metadata": {},
   "outputs": [],
   "source": [
    "term = hp['HP:0000003']"
   ]
  },
  {
   "cell_type": "code",
   "execution_count": 4,
   "metadata": {},
   "outputs": [
    {
     "name": "stdout",
     "output_type": "stream",
     "text": [
      "Multicystic renal dysplasia\n",
      "Multicystic dysplastic kidney\n",
      "Multicystic kidneys\n"
     ]
    }
   ],
   "source": [
    "fset = term.synonyms\n",
    "for i in fset:\n",
    "    print(i.description)"
   ]
  },
  {
   "cell_type": "code",
   "execution_count": 5,
   "metadata": {},
   "outputs": [
    {
     "name": "stdout",
     "output_type": "stream",
     "text": [
      "22244\n"
     ]
    }
   ],
   "source": [
    "# save all the synonyms of the genes in a txt file\n",
    "hpo_syn_path = '/home/yangye/BioCreative/dataset/hpo.txt'\n",
    "\n",
    "def write_txt(hpo, synonyms,path): # hpo || synonyms\n",
    "    with open(path, 'a') as f:\n",
    "        f.write(str(hpo) + '||' + str(synonyms) + '\\n')\n",
    "\n",
    "# 40119 synonyms in total\n",
    "# 17878 names in total\n",
    "count = 0\n",
    "for term in hp.terms():\n",
    "    name = term.name\n",
    "    hpo = term.id\n",
    "    # write_txt(hpo, name, hpo_syn_path)\n",
    "    for synonym in hp[hpo].synonyms:\n",
    "        # write_txt(hpo, synonym.description, hpo_syn_path)\n",
    "        count += 1\n",
    "print(count)\n"
   ]
  },
  {
   "cell_type": "code",
   "execution_count": 3,
   "metadata": {},
   "outputs": [],
   "source": [
    "import networkx\n",
    "import obonet\n",
    "\n",
    "graph = obonet.read_obo('dataset/hp.obo')\n",
    "\n",
    "G = networkx.Graph(graph)\n",
    "\n",
    "spl = dict(networkx.all_pairs_shortest_path_length(G))"
   ]
  },
  {
   "cell_type": "code",
   "execution_count": 18,
   "metadata": {},
   "outputs": [],
   "source": [
    "G = networkx.Graph(graph)\n",
    "\n",
    "spl = dict(networkx.all_pairs_shortest_path_length(G))"
   ]
  },
  {
   "cell_type": "code",
   "execution_count": 23,
   "metadata": {},
   "outputs": [
    {
     "data": {
      "text/plain": [
       "4"
      ]
     },
     "execution_count": 23,
     "metadata": {},
     "output_type": "execute_result"
    }
   ],
   "source": [
    "spl['HP:0033127']['HP:0033235']"
   ]
  }
 ],
 "metadata": {
  "kernelspec": {
   "display_name": "NEN",
   "language": "python",
   "name": "python3"
  },
  "language_info": {
   "codemirror_mode": {
    "name": "ipython",
    "version": 3
   },
   "file_extension": ".py",
   "mimetype": "text/x-python",
   "name": "python",
   "nbconvert_exporter": "python",
   "pygments_lexer": "ipython3",
   "version": "3.11.4"
  },
  "orig_nbformat": 4
 },
 "nbformat": 4,
 "nbformat_minor": 2
}
